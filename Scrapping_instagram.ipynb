{
  "nbformat": 4,
  "nbformat_minor": 0,
  "metadata": {
    "colab": {
      "name": "Scrapping-instagram.ipynb",
      "provenance": []
    },
    "kernelspec": {
      "name": "python3",
      "display_name": "Python 3"
    },
    "language_info": {
      "name": "python"
    }
  },
  "cells": [
    {
      "cell_type": "markdown",
      "metadata": {
        "id": "77VR3egCmJd_"
      },
      "source": [
        "# Scrapping Instagram"
      ]
    },
    {
      "cell_type": "code",
      "metadata": {
        "colab": {
          "base_uri": "https://localhost:8080/"
        },
        "id": "Jc9XqQ1Kl_Oj",
        "outputId": "1d559177-c268-43c1-9898-29b7442b4d33"
      },
      "source": [
        "!pip install instaloader"
      ],
      "execution_count": 1,
      "outputs": [
        {
          "output_type": "stream",
          "text": [
            "Collecting instaloader\n",
            "\u001b[?25l  Downloading https://files.pythonhosted.org/packages/ad/8c/95901a78803870d789c724ad257091999320b22e545878f1e9b8cf132071/instaloader-4.7.2.tar.gz (50kB)\n",
            "\r\u001b[K     |██████▌                         | 10kB 13.2MB/s eta 0:00:01\r\u001b[K     |█████████████                   | 20kB 18.4MB/s eta 0:00:01\r\u001b[K     |███████████████████▍            | 30kB 11.5MB/s eta 0:00:01\r\u001b[K     |██████████████████████████      | 40kB 8.7MB/s eta 0:00:01\r\u001b[K     |████████████████████████████████| 51kB 2.9MB/s \n",
            "\u001b[?25hRequirement already satisfied: requests>=2.4 in /usr/local/lib/python3.7/dist-packages (from instaloader) (2.23.0)\n",
            "Requirement already satisfied: urllib3!=1.25.0,!=1.25.1,<1.26,>=1.21.1 in /usr/local/lib/python3.7/dist-packages (from requests>=2.4->instaloader) (1.24.3)\n",
            "Requirement already satisfied: chardet<4,>=3.0.2 in /usr/local/lib/python3.7/dist-packages (from requests>=2.4->instaloader) (3.0.4)\n",
            "Requirement already satisfied: certifi>=2017.4.17 in /usr/local/lib/python3.7/dist-packages (from requests>=2.4->instaloader) (2021.5.30)\n",
            "Requirement already satisfied: idna<3,>=2.5 in /usr/local/lib/python3.7/dist-packages (from requests>=2.4->instaloader) (2.10)\n",
            "Building wheels for collected packages: instaloader\n",
            "  Building wheel for instaloader (setup.py) ... \u001b[?25l\u001b[?25hdone\n",
            "  Created wheel for instaloader: filename=instaloader-4.7.2-cp37-none-any.whl size=54711 sha256=967624fe2053d3c2482ece080c7cc5c3d19ae2174f7d555e12b9250fb20dd1c7\n",
            "  Stored in directory: /root/.cache/pip/wheels/d4/8e/9b/2bff9390f6c73cb8e75c23fbbda91313990074da6fa073c718\n",
            "Successfully built instaloader\n",
            "Installing collected packages: instaloader\n",
            "Successfully installed instaloader-4.7.2\n"
          ],
          "name": "stdout"
        }
      ]
    },
    {
      "cell_type": "code",
      "metadata": {
        "colab": {
          "base_uri": "https://localhost:8080/"
        },
        "id": "Xj4v2N2jodxB",
        "outputId": "1f9da158-9dd9-48be-efc5-7108139431d5"
      },
      "source": [
        "import instaloader\n",
        "\n",
        "# instance of instaloader class\n",
        "\n",
        "bot = instaloader.Instaloader()\n",
        "\n",
        "# load a profile from an Instagram handle\n",
        "profile = instaloader.Profile.from_username(bot.context, 'ziiv___')\n",
        "\n",
        "print(type(profile))"
      ],
      "execution_count": 17,
      "outputs": [
        {
          "output_type": "stream",
          "text": [
            "<class 'instaloader.structures.Profile'>\n"
          ],
          "name": "stdout"
        }
      ]
    },
    {
      "cell_type": "code",
      "metadata": {
        "colab": {
          "base_uri": "https://localhost:8080/"
        },
        "id": "0Y3pZi5Go7wQ",
        "outputId": "598dd544-51e2-4803-ffb2-c4d3c70862dc"
      },
      "source": [
        "# extracting valuable information\n",
        "print(\"Username: \", profile.username)\n",
        "print(\"User ID: \", profile.userid)\n",
        "print(\"Number of Posts: \", profile.mediacount)\n",
        "print(\"Followers: \", profile.followers)\n",
        "print(\"Followees: \", profile.followees)\n",
        "print(\"Bio: \", profile.biography,profile.external_url)"
      ],
      "execution_count": 18,
      "outputs": [
        {
          "output_type": "stream",
          "text": [
            "Username:  ziiv___\n",
            "User ID:  271186667\n",
            "Number of Posts:  263\n",
            "Followers:  400\n",
            "Followees:  749\n",
            "Bio:  Travel | Sketches | Paintings None\n"
          ],
          "name": "stdout"
        }
      ]
    },
    {
      "cell_type": "code",
      "metadata": {
        "colab": {
          "base_uri": "https://localhost:8080/"
        },
        "id": "lREUb_4cpbUL",
        "outputId": "2176c5d5-a068-41d3-d051-e5551fd223ca"
      },
      "source": [
        "# Login with username and password in the script\n",
        "# bot.login(user=\"your username\", passwd=\"your password\")\n",
        "\n",
        "# Interactive login on terminal\n",
        "bot.interactive_login(\"ziiv___\") # Asks for password in the terminal"
      ],
      "execution_count": 11,
      "outputs": [
        {
          "output_type": "stream",
          "text": [
            "Enter Instagram password for ziiv___: ··········\n"
          ],
          "name": "stdout"
        }
      ]
    },
    {
      "cell_type": "code",
      "metadata": {
        "id": "r5FUKQnIpqd2"
      },
      "source": [
        "# Retrieve the usernames of all followers\n",
        "followers = [follower.username for follower in profile.get_followers()]\n",
        "\n",
        "# Retrieve the usernames of all followees\n",
        "followees = [followee.username for followee in profile.get_followees()]\n",
        "print(followers)"
      ],
      "execution_count": null,
      "outputs": []
    },
    {
      "cell_type": "code",
      "metadata": {
        "id": "2prstFWrrHEL"
      },
      "source": [
        "# Load a new profile\n",
        "profile = instaloader.Profile.from_username(bot.context, 'username')\n",
        "\n",
        "# Get all posts in a generator object\n",
        "posts = profile.get_posts()\n",
        "\n",
        "# Iterate and download\n",
        "for index, post in enumerate(posts, 1):\n",
        "    bot.download_post(post, target=f\"{profile.username}_{index}\")"
      ],
      "execution_count": null,
      "outputs": []
    },
    {
      "cell_type": "code",
      "metadata": {
        "id": "VqRm6f22rcL-"
      },
      "source": [
        ""
      ],
      "execution_count": null,
      "outputs": []
    }
  ]
}