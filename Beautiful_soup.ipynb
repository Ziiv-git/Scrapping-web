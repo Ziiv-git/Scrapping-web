{
  "nbformat": 4,
  "nbformat_minor": 0,
  "metadata": {
    "colab": {
      "name": "Beautiful_soup.ipynb",
      "provenance": [],
      "collapsed_sections": []
    },
    "kernelspec": {
      "name": "python3",
      "display_name": "Python 3"
    },
    "language_info": {
      "name": "python"
    }
  },
  "cells": [
    {
      "cell_type": "markdown",
      "metadata": {
        "id": "8lAjQ4sXcOOu"
      },
      "source": [
        "# Web scrapping to create csv"
      ]
    },
    {
      "cell_type": "code",
      "metadata": {
        "colab": {
          "base_uri": "https://localhost:8080/"
        },
        "id": "12LS9NCzdDA8",
        "outputId": "86c90e6e-ffc4-4ddd-ff43-f7c785435beb"
      },
      "source": [
        "!pip install urllib3"
      ],
      "execution_count": 6,
      "outputs": [
        {
          "output_type": "stream",
          "text": [
            "Requirement already satisfied: urllib3 in /usr/local/lib/python3.7/dist-packages (1.24.3)\n"
          ],
          "name": "stdout"
        }
      ]
    },
    {
      "cell_type": "code",
      "metadata": {
        "id": "36gwJd7GXB5k"
      },
      "source": [
        "from bs4 import BeautifulSoup as soup\n",
        "from urllib.request import urlopen as uReq\n",
        "\n",
        "url = 'https://www.flipkart.com/search?q=samsung+s20+fe&sid=tyy%2C4io&as=on&as-show=on&otracker=AS_QueryStore_OrganicAutoSuggest_2_9_na_na_na&otracker1=AS_QueryStore_OrganicAutoSuggest_2_9_na_na_na&as-pos=2&as-type=RECENT&suggestionId=samsung+s20+fe%7CMobiles&requestId=80dcd315-07b2-465e-b10b-1e074a282c26&as-backfill=on'\n",
        "\n",
        "uClient = uReq(url)\n",
        "page_html = uClient.read()\n",
        "uClient.close()\n",
        "page_soup = soup(page_html, 'html.parser')"
      ],
      "execution_count": 16,
      "outputs": []
    },
    {
      "cell_type": "code",
      "metadata": {
        "colab": {
          "base_uri": "https://localhost:8080/"
        },
        "id": "-kmu2V9qc9AK",
        "outputId": "b7ab7d23-edca-4286-c7b7-b2a13a9092a4"
      },
      "source": [
        "# seeing containers\n",
        "containers = page_soup.findAll('div', {'class':'_13oc-S'})\n",
        "print(len(containers))"
      ],
      "execution_count": 34,
      "outputs": [
        {
          "output_type": "stream",
          "text": [
            "5\n"
          ],
          "name": "stdout"
        }
      ]
    },
    {
      "cell_type": "code",
      "metadata": {
        "colab": {
          "base_uri": "https://localhost:8080/"
        },
        "id": "LiNzJyHpdznj",
        "outputId": "edade45f-77f2-48fb-cc56-c500828dd6f9"
      },
      "source": [
        "print(soup.prettify(containers[0]))"
      ],
      "execution_count": 35,
      "outputs": [
        {
          "output_type": "stream",
          "text": [
            "<div class=\"_13oc-S\">\n",
            " <div data-id=\"MOBFWAVTQNMETGGG\" style=\"width:100%\">\n",
            "  <div class=\"_2kHMtA\">\n",
            "   <a class=\"_1fQZEK\" href=\"/samsung-galaxy-s20-fe-cloud-navy-128-gb/p/itm90f8fb032ae3c?pid=MOBFWAVTQNMETGGG&amp;lid=LSTMOBFWAVTQNMETGGGIJYV5O&amp;marketplace=FLIPKART&amp;q=samsung+s20+fe&amp;store=tyy%2F4io&amp;srno=s_1_1&amp;otracker=AS_QueryStore_OrganicAutoSuggest_2_9_na_na_na&amp;otracker1=AS_QueryStore_OrganicAutoSuggest_2_9_na_na_na&amp;fm=organic&amp;iid=aa041d33-ac32-4879-a578-8c8a94e3867f.MOBFWAVTQNMETGGG.SEARCH&amp;ppt=None&amp;ppn=None&amp;ssid=tnjep7ufhc0000001623908697204&amp;qH=65accbf922d1986a\" rel=\"noopener noreferrer\" target=\"_blank\">\n",
            "    <div class=\"MIXNux\">\n",
            "     <div class=\"_2QcLo-\">\n",
            "      <div>\n",
            "       <div class=\"CXW8mj\" style=\"height:200px;width:200px\">\n",
            "        <img alt=\"SAMSUNG Galaxy S20 FE (Cloud Navy, 128 GB)\" class=\"_396cs4 _3exPp9\" src=\"https://rukminim1.flixcart.com/image/312/312/kg15ocw0/mobile/g/g/g/samsung-galaxy-s20-fe-sm-g780fzbnins-original-imafwd2j4ggevjwq.jpeg?q=70\"/>\n",
            "       </div>\n",
            "      </div>\n",
            "     </div>\n",
            "     <div class=\"_3wLduG\">\n",
            "      <div class=\"_3PzNI-\">\n",
            "       <span class=\"f3A4_V\">\n",
            "        <label class=\"_2iDkf8\">\n",
            "         <input class=\"_30VH1S\" readonly=\"\" type=\"checkbox\"/>\n",
            "         <div class=\"_24_Dny\">\n",
            "         </div>\n",
            "        </label>\n",
            "       </span>\n",
            "       <label class=\"_6Up2sF\">\n",
            "        <span>\n",
            "         Add to Compare\n",
            "        </span>\n",
            "       </label>\n",
            "      </div>\n",
            "     </div>\n",
            "     <div class=\"_2hVSre _3nq8ih\">\n",
            "      <div class=\"_36FSn5\">\n",
            "       <svg class=\"_1l0elc\" height=\"16\" viewbox=\"0 0 20 16\" width=\"16\" xmlns=\"http://www.w3.org/2000/svg\">\n",
            "        <path class=\"eX72wL\" d=\"M8.695 16.682C4.06 12.382 1 9.536 1 6.065 1 3.219 3.178 1 5.95 1c1.566 0 3.069.746 4.05 1.915C10.981 1.745 12.484 1 14.05 1 16.822 1 19 3.22 19 6.065c0 3.471-3.06 6.316-7.695 10.617L10 17.897l-1.305-1.215z\" fill=\"#2874F0\" fill-rule=\"evenodd\" opacity=\".9\" stroke=\"#FFF\">\n",
            "        </path>\n",
            "       </svg>\n",
            "      </div>\n",
            "     </div>\n",
            "    </div>\n",
            "    <div class=\"_3pLy-c row\">\n",
            "     <div class=\"col col-7-12\">\n",
            "      <div class=\"_4rR01T\">\n",
            "       SAMSUNG Galaxy S20 FE (Cloud Navy, 128 GB)\n",
            "      </div>\n",
            "      <div class=\"gUuXy-\">\n",
            "       <span class=\"_1lRcqv\" id=\"productRating_LSTMOBFWAVTQNMETGGGIJYV5O_MOBFWAVTQNMETGGG_\">\n",
            "        <div class=\"_3LWZlK\">\n",
            "         4\n",
            "         <img class=\"_1wB99o\" src=\"data:image/svg+xml;base64,PHN2ZyB4bWxucz0iaHR0cDovL3d3dy53My5vcmcvMjAwMC9zdmciIHdpZHRoPSIxMyIgaGVpZ2h0PSIxMiI+PHBhdGggZmlsbD0iI0ZGRiIgZD0iTTYuNSA5LjQzOWwtMy42NzQgMi4yMy45NC00LjI2LTMuMjEtMi44ODMgNC4yNTQtLjQwNEw2LjUuMTEybDEuNjkgNC4wMSA0LjI1NC40MDQtMy4yMSAyLjg4Mi45NCA0LjI2eiIvPjwvc3ZnPg==\"/>\n",
            "        </div>\n",
            "       </span>\n",
            "       <span class=\"_2_R_DZ\">\n",
            "        <span>\n",
            "         <span>\n",
            "          504 Ratings\n",
            "         </span>\n",
            "         <span class=\"_13vcmD\">\n",
            "          &amp;\n",
            "         </span>\n",
            "         <span>\n",
            "          73 Reviews\n",
            "         </span>\n",
            "        </span>\n",
            "       </span>\n",
            "      </div>\n",
            "      <div class=\"fMghEO\">\n",
            "       <ul class=\"_1xgFaf\">\n",
            "        <li class=\"rgWa7D\">\n",
            "         8 GB RAM | 128 GB ROM | Expandable Upto 1 TB\n",
            "        </li>\n",
            "        <li class=\"rgWa7D\">\n",
            "         16.51 cm (6.5 inch) Full HD+ Display\n",
            "        </li>\n",
            "        <li class=\"rgWa7D\">\n",
            "         12MP + 12MP + 8MP Rear Camera | 32MP Front Camera\n",
            "        </li>\n",
            "        <li class=\"rgWa7D\">\n",
            "         4500 mAh Lithium Ion Battery\n",
            "        </li>\n",
            "        <li class=\"rgWa7D\">\n",
            "         Exynos Octa Core Processor\n",
            "        </li>\n",
            "        <li class=\"rgWa7D\">\n",
            "         Super AMOLED Display | 120 Hz Rate\n",
            "        </li>\n",
            "        <li class=\"rgWa7D\">\n",
            "         IP68 Rating\n",
            "        </li>\n",
            "        <li class=\"rgWa7D\">\n",
            "         1 Year Warranty Provided by the Manufacturer from Date of Purchase\n",
            "        </li>\n",
            "       </ul>\n",
            "      </div>\n",
            "     </div>\n",
            "     <div class=\"col col-5-12 nlI3QM\">\n",
            "      <div class=\"_3tbKJL\">\n",
            "       <div class=\"_25b18c\">\n",
            "        <div class=\"_30jeq3 _1_WHN1\">\n",
            "         ₹37,990\n",
            "        </div>\n",
            "        <div class=\"_3I9_wc _27UcVY\">\n",
            "         ₹\n",
            "         <!-- -->\n",
            "         65,999\n",
            "        </div>\n",
            "        <div class=\"_3Ay6Sb\">\n",
            "         <span>\n",
            "          42% off\n",
            "         </span>\n",
            "        </div>\n",
            "       </div>\n",
            "      </div>\n",
            "      <div class=\"_13J9qT\">\n",
            "       <img height=\"21\" src=\"//static-assets-web.flixcart.com/www/linchpin/fk-cp-zion/img/fa_62673a.png\"/>\n",
            "      </div>\n",
            "      <div class=\"_2ZdXDB\">\n",
            "       <div class=\"_3xFhiH\">\n",
            "        <div class=\"_2Tpdn3 _18hQoS\" style=\"color:#000000;font-size:12px;font-style:normal;font-weight:400\">\n",
            "         No Cost EMI\n",
            "        </div>\n",
            "       </div>\n",
            "      </div>\n",
            "      <div class=\"_2ZdXDB\">\n",
            "       <div class=\"_3xFhiH\">\n",
            "        <div class=\"_2Tpdn3 _18hQoS\" style=\"color:#000000;font-size:14px;font-style:normal;font-weight:400\">\n",
            "         Upto\n",
            "        </div>\n",
            "        <div class=\"_2Tpdn3 _18hQoS\" style=\"color:#000000;font-size:14px;font-style:normal;font-weight:700\">\n",
            "         ₹15,300\n",
            "        </div>\n",
            "        <div class=\"_2Tpdn3 _18hQoS\" style=\"color:#000000;font-size:14px;font-style:normal;font-weight:400\">\n",
            "         Off on Exchange\n",
            "        </div>\n",
            "       </div>\n",
            "      </div>\n",
            "     </div>\n",
            "    </div>\n",
            "   </a>\n",
            "  </div>\n",
            " </div>\n",
            "</div>\n"
          ],
          "name": "stdout"
        }
      ]
    },
    {
      "cell_type": "code",
      "metadata": {
        "colab": {
          "base_uri": "https://localhost:8080/"
        },
        "id": "9zEGupEqgK7x",
        "outputId": "dceeec5e-ec83-41c2-ea4a-da9489321c5c"
      },
      "source": [
        "# seeing first item in the page\n",
        "container = containers[0]\n",
        "print(container.div.img['alt'])"
      ],
      "execution_count": 36,
      "outputs": [
        {
          "output_type": "stream",
          "text": [
            "SAMSUNG Galaxy S20 FE (Cloud Navy, 128 GB)\n"
          ],
          "name": "stdout"
        }
      ]
    },
    {
      "cell_type": "code",
      "metadata": {
        "colab": {
          "base_uri": "https://localhost:8080/"
        },
        "id": "misec24agaAr",
        "outputId": "5db8e3a8-db65-4a49-b984-3b030e37de33"
      },
      "source": [
        "price = container.findAll(\"div\", {\"class\": \"col col-5-12 nlI3QM\"})\n",
        "print(price[0].text)"
      ],
      "execution_count": 38,
      "outputs": [
        {
          "output_type": "stream",
          "text": [
            "₹37,990₹65,99942% offNo Cost EMIUpto ₹15,300 Off on Exchange\n"
          ],
          "name": "stdout"
        }
      ]
    },
    {
      "cell_type": "code",
      "metadata": {
        "colab": {
          "base_uri": "https://localhost:8080/"
        },
        "id": "pttETd8dkXNI",
        "outputId": "d27e4590-f0d5-4929-a8b5-46762e151a4d"
      },
      "source": [
        "ratings = container.findAll(\"div\", {\"class\": \"gUuXy-\"})\n",
        "print(ratings[0].text)"
      ],
      "execution_count": 39,
      "outputs": [
        {
          "output_type": "stream",
          "text": [
            "4504 Ratings & 73 Reviews\n"
          ],
          "name": "stdout"
        }
      ]
    },
    {
      "cell_type": "code",
      "metadata": {
        "colab": {
          "base_uri": "https://localhost:8080/"
        },
        "id": "oMElpQlOk0SD",
        "outputId": "7a8fbffc-3c45-44b6-b914-67437bd8b01b"
      },
      "source": [
        "# creating a csv file\n",
        "filename = \"products.csv\"\n",
        "f = open(filename, \"w\")\n",
        "headers = \"Product_Name, Pricing, Ratings \\n\"\n",
        "f.write(headers)"
      ],
      "execution_count": 40,
      "outputs": [
        {
          "output_type": "execute_result",
          "data": {
            "text/plain": [
              "32"
            ]
          },
          "metadata": {
            "tags": []
          },
          "execution_count": 40
        }
      ]
    },
    {
      "cell_type": "code",
      "metadata": {
        "colab": {
          "base_uri": "https://localhost:8080/"
        },
        "id": "cDGsDEe8k5Kj",
        "outputId": "9048d88b-2315-4fee-aba7-d70b423afd11"
      },
      "source": [
        "# looking what the csv file contains\n",
        "for container in containers:\n",
        "    product_name = container.div.img[\"alt\"]\n",
        "    price_container = container.findAll(\"div\", {\"class\": \"col col-5-12 nlI3QM\"})\n",
        "    price = price_container[0].text.strip()\n",
        "\n",
        "    rating_container = container.findAll(\"div\", {\"class\": \"gUuXy-\"})\n",
        "    rating = rating_container[0].text\n",
        "    print(\"Product_Name:\"+ product_name)\n",
        "    print(\"Price: \" + price)\n",
        "    print(\"Ratings:\" + rating)\n",
        "    print()"
      ],
      "execution_count": 42,
      "outputs": [
        {
          "output_type": "stream",
          "text": [
            "Product_Name:SAMSUNG Galaxy S20 FE (Cloud Navy, 128 GB)\n",
            "Price: ₹37,990₹65,99942% offNo Cost EMIUpto ₹15,300 Off on Exchange\n",
            "Ratings:4504 Ratings & 73 Reviews\n",
            "\n",
            "Product_Name:SAMSUNG Galaxy S20 FE (Cloud White, 128 GB)\n",
            "Price: ₹37,990₹65,99942% offNo Cost EMIUpto ₹15,300 Off on Exchange\n",
            "Ratings:4504 Ratings & 73 Reviews\n",
            "\n",
            "Product_Name:SAMSUNG Galaxy S20 FE (Cloud Lavender, 128 GB)\n",
            "Price: ₹37,990₹65,99942% offNo Cost EMIUpto ₹15,300 Off on Exchange\n",
            "Ratings:4504 Ratings & 73 Reviews\n",
            "\n",
            "Product_Name:SAMSUNG Galaxy S20 FE (Cloud Red, 128 GB)\n",
            "Price: ₹37,990₹65,99942% offNo Cost EMIUpto ₹15,300 Off on Exchange\n",
            "Ratings:4504 Ratings & 73 Reviews\n",
            "\n",
            "Product_Name:SAMSUNG Galaxy S20 FE (Cloud Mint, 128 GB)\n",
            "Price: ₹37,990₹65,99942% offNo Cost EMIUpto ₹15,300 Off on Exchange\n",
            "Ratings:4504 Ratings & 73 Reviews\n",
            "\n"
          ],
          "name": "stdout"
        }
      ]
    },
    {
      "cell_type": "code",
      "metadata": {
        "id": "Y3OmBLIIlGis"
      },
      "source": [
        ""
      ],
      "execution_count": null,
      "outputs": []
    }
  ]
}