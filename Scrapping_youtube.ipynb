{
  "nbformat": 4,
  "nbformat_minor": 0,
  "metadata": {
    "colab": {
      "name": "Scrapping-youtube.ipynb",
      "provenance": []
    },
    "kernelspec": {
      "name": "python3",
      "display_name": "Python 3"
    },
    "language_info": {
      "name": "python"
    }
  },
  "cells": [
    {
      "cell_type": "markdown",
      "metadata": {
        "id": "9R_Vhk_02Fde"
      },
      "source": [
        "# SCRAPPING YOUTUBE"
      ]
    },
    {
      "cell_type": "markdown",
      "metadata": {
        "id": "mDWoYDTD2PI0"
      },
      "source": [
        "For the task of scraping youtube with python, we have a package known as pytube3, which can be easily installed by using the pip command – pip install pytube3"
      ]
    },
    {
      "cell_type": "code",
      "metadata": {
        "colab": {
          "base_uri": "https://localhost:8080/",
          "height": 187
        },
        "id": "3mFaImzW1_mQ",
        "outputId": "66be16f5-9654-4303-de41-305421e2a5e9"
      },
      "source": [
        "!pip install pytube"
      ],
      "execution_count": 17,
      "outputs": [
        {
          "output_type": "stream",
          "text": [
            "Collecting pytube\n",
            "\u001b[?25l  Downloading https://files.pythonhosted.org/packages/c0/d0/01b6936455527bdf7cf32f0fd32f7365bc7e3aa066ff3b16d45fa42c71f1/pytube-10.8.4-py3-none-any.whl (46kB)\n",
            "\r\u001b[K     |███████                         | 10kB 15.9MB/s eta 0:00:01\r\u001b[K     |██████████████▏                 | 20kB 8.9MB/s eta 0:00:01\r\u001b[K     |█████████████████████▎          | 30kB 5.9MB/s eta 0:00:01\r\u001b[K     |████████████████████████████▎   | 40kB 5.5MB/s eta 0:00:01\r\u001b[K     |████████████████████████████████| 51kB 2.1MB/s \n",
            "\u001b[?25hInstalling collected packages: pytube\n",
            "Successfully installed pytube-10.8.4\n"
          ],
          "name": "stdout"
        },
        {
          "output_type": "display_data",
          "data": {
            "application/vnd.colab-display-data+json": {
              "pip_warning": {
                "packages": [
                  "pytube"
                ]
              }
            }
          },
          "metadata": {
            "tags": []
          }
        }
      ]
    },
    {
      "cell_type": "code",
      "metadata": {
        "id": "vvS8R1CR2Tqu"
      },
      "source": [
        "from pytube import YouTube"
      ],
      "execution_count": 1,
      "outputs": []
    },
    {
      "cell_type": "code",
      "metadata": {
        "colab": {
          "base_uri": "https://localhost:8080/"
        },
        "id": "ecU6QzcM2csu",
        "outputId": "22b31350-a76d-4637-a834-8bcdd0373600"
      },
      "source": [
        "# link of youtube video which i need to scrap\n",
        "# it will be one of my video\n",
        " \n",
        "link = input(\"Enter Link of Youtube Video: \")\n",
        "# link = \"https://www.youtube.com/watch?v=2FbWhnTUebo\"\n",
        "yt = YouTube(link)"
      ],
      "execution_count": 3,
      "outputs": [
        {
          "output_type": "stream",
          "text": [
            "Enter Link of Youtube Video: 'https://www.youtube.com/watch?v=SJH7Xnre-lY'\n"
          ],
          "name": "stdout"
        }
      ]
    },
    {
      "cell_type": "code",
      "metadata": {
        "colab": {
          "base_uri": "https://localhost:8080/"
        },
        "id": "QsjeFWzc3jOa",
        "outputId": "fd800d45-de59-46ea-c294-a38cbc8c96f3"
      },
      "source": [
        "# print title \n",
        "print('Title :', yt.title)\n",
        "\n",
        "# number of views\n",
        "print('Views :', yt.views)\n",
        "\n",
        "# length of video\n",
        "print('Duration :', yt.length)\n",
        "\n",
        "# description of video\n",
        "print('Description :', yt.description)\n",
        "\n",
        "# ratings\n",
        "print('Ratings :', yt.rating)"
      ],
      "execution_count": 5,
      "outputs": [
        {
          "output_type": "stream",
          "text": [
            "Title : COVID19 Analysis\n",
            "Views : 4\n",
            "Duration : 421\n",
            "Description : Project: Timeline Analysis of Covid -19 \n",
            "\n",
            "Creating the dashboards and/or storyboard and record it.\n",
            "\n",
            "Objective: \n",
            "Explaining the spread Covid-19 in the global regions using tableau, using animations, timeline and annotations to create attractive and interactive dashboards. Identifying patterns and possible reasons helping covid-19 spread.\n",
            "\n",
            "Dataset: Coronavirus Source Data - Our World in Data\n",
            "\n",
            "Institution: GRIP @ The Sparks Foundation\n",
            "Ratings : 0.0\n"
          ],
          "name": "stdout"
        }
      ]
    },
    {
      "cell_type": "markdown",
      "metadata": {
        "id": "UON3gHIh6EhW"
      },
      "source": [
        "## Downloading youtube video"
      ]
    },
    {
      "cell_type": "code",
      "metadata": {
        "colab": {
          "base_uri": "https://localhost:8080/"
        },
        "id": "YZpWRZf-46HW",
        "outputId": "bf740f99-cced-4926-952f-bc028dccb5b9"
      },
      "source": [
        "stream = yt.streams.get_highest_resolution()\n",
        "stream.download()\n",
        "print('Download completed')"
      ],
      "execution_count": 7,
      "outputs": [
        {
          "output_type": "stream",
          "text": [
            "Download completed\n"
          ],
          "name": "stdout"
        }
      ]
    }
  ]
}